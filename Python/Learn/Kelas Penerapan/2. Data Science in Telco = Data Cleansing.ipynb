{
 "cells": [
  {
   "cell_type": "markdown",
   "id": "0f548a0b",
   "metadata": {},
   "source": [
    "# Data Preprocessing (Data Cleansing) \n",
    "Langkah yang akan dilakukan adalah,\n",
    "\n",
    "Mencari ID pelanggan (Nomor telepon) yang valid\n",
    "Mengatasi data-data yang masih kosong (Missing Values)\n",
    "Mengatasi Nilai-Nilai Pencilan (Outlier) dari setiap Variable\n",
    "Menstandardisasi Nilai dari Variable"
   ]
  },
  {
   "cell_type": "markdown",
   "id": "8279d4c9",
   "metadata": {},
   "source": [
    "# Library yang Digunakan\n",
    "Pada analisis kali ini, akan digunakan beberapa package yang membantu kita dalam melakukan analisis data.\n",
    "\n",
    "1. Pandas\n",
    "Pandas (Python for Data Analysis) adalah library Python yang fokus untuk proses analisis data seperti manipulasi data, persiapan data, dan pembersihan data.\n",
    "\n",
    "read_csv() digunakan untuk membaca file csv\n",
    "str.match() digunakan untuk mencocokan dengan karakter tertentu\n",
    "drop() digunakan untuk menghapus\n",
    "count() digunakan untuk menghitung masing-masing variable\n",
    "drop_duplicates() digunakan untuk menghapus data duplicate rows\n",
    "fillna() digunakan untuk mengisi dengan nilai tertentu\n",
    "quantile() digunakan untuk melihat quantile ke tertentu\n",
    "mask() mengganti nilai tertentu jika kondisi memenuhi\n",
    "astype() mengubah tipe data\n",
    "value_counts() digunakan untuk menghitung unik dari kolom\n",
    "sort_values() digunakan untuk sort values\n",
    "isnull() digunakan untuk mendeteksi missing values\n",
    "dropna() digunakan untuk menghapus missing values\n",
    "replace() digunakan untuk mengganti nilai\n",
    "\n",
    "2. Matplotlib\n",
    "Matplotlib adalah library Python yang fokus pada visualisasi data seperti membuat plot grafik. Matplotlib dapat digunakan dalam skrip Python, Python dan IPython shell, server aplikasi web, dan beberapa toolkit graphical user interface (GUI) lainnya.\n",
    "\n",
    "figure() digunakan untuk membuat figure gambar baru\n",
    "\n",
    "3. Seaborn\n",
    "Seaborn membangun di atas Matplotlib dan memperkenalkan tipe plot tambahan. Ini juga membuat plot Matplotlib tradisional Anda terlihat sedikit lebih cantik.\n",
    "\n",
    "box_plot() digunakan untuk membuat box plot"
   ]
  },
  {
   "cell_type": "markdown",
   "id": "6c4855a7",
   "metadata": {},
   "source": [
    "# Data yang Digunakan\n",
    "Untuk dataset yang digunakan sudah disediakan dalam format csv, silahkan baca melalui fungsi pandas di python df_load = pd.read_csv('https://storage.googleapis.com/dqlab-dataset/dqlab_telco.csv')\n",
    "\n",
    " \n",
    "Untuk detail datanya adalah sebagai berikut:\n",
    "\n",
    "- UpdatedAt Periode of Data taken\n",
    "- customerID Customer ID\n",
    "- gender Whether the customer is a male or a female (Male, Female)\n",
    "- SeniorCitizen Whether the customer is a senior citizen or not (1, 0)\n",
    "- Partner Whether the customer has a partner or not (Yes, No)\n",
    "- Dependents Whether the customer has dependents or not (Yes, No)\n",
    "- tenure Number of months the customer has stayed with the company\n",
    "- PhoneService Whether the customer has a phone service or not (Yes, No)\n",
    "- MultipleLines Whether the customer has multiple lines or not (Yes, No, No phone service)\n",
    "- InternetService Customer’s internet service provider (DSL, Fiber optic, No)\n",
    "- OnlineSecurity Whether the customer has online security or not (Yes, No, No internet service)\n",
    "- OnlineBackup Whether the customer has online backup or not (Yes, No, No internet service)\n",
    "- DeviceProtection Whether the customer has device protection or not (Yes, No, No internet service)\n",
    "- TechSupport Whether the customer has tech support or not (Yes, No, No internet service)\n",
    "- StreamingTV Whether the customer has streaming TV or not (Yes, No, No internet service)\n",
    "- StreamingMovies Whether the customer has streaming movies or not (Yes, No, No internet service)\n",
    "- Contract The contract term of the customer (Month-to-month, One year, Two year)\n",
    "- PaperlessBilling Whether the customer has paperless billing or not (Yes, No)\n",
    "- PaymentMethod The customer’s payment method (Electronic check, Mailed check, Bank transfer (automatic), Credit card (automatic))\n",
    "- MonthlyCharges The amount charged to the customer monthly\n",
    "- TotalCharges The total amount charged to the customer\n",
    "- Churn Whether the customer churned or not (Yes or No) "
   ]
  },
  {
   "cell_type": "markdown",
   "id": "e442b3bb",
   "metadata": {},
   "source": [
    "# Import Library dan Dataset\n",
    "Berdasarkan penjelasan mengenai library dan dataset yang akan digunakan, sekarang hal pertama yang akan kita lakukan adalah melakukan import library dan dataset ke dalam workspace kita.\n",
    "\n",
    "Setelah dataset di-import ke dalam workspace, tampilkan jumlah kolom dan baris dari data set dengan menggunakan .shape dan print 5 baris teratas dengan menggunakan head() dan carilah ada berapa nilai customerID yang bersifat unique dengan menggunakan .unique\n",
    "\n",
    "Notes:\n",
    "\n",
    "1. pd.options.display.max_columns = 50 digunakan untuk mempermudah penampilan row data\n",
    "\n",
    "2. Simpan dataset ke dalam variabel df_load"
   ]
  },
  {
   "cell_type": "code",
   "execution_count": 1,
   "id": "89dbb0e0",
   "metadata": {},
   "outputs": [
    {
     "name": "stdout",
     "output_type": "stream",
     "text": [
      "(7113, 22)\n",
      "   UpdatedAt   customerID  gender  SeniorCitizen Partner Dependents  tenure  \\\n",
      "0     202006  45759018157  Female              0     Yes         No     1.0   \n",
      "1     202006  45557574145    Male              0      No         No    34.0   \n",
      "2     202006  45366876421    Male              0      No         No     2.0   \n",
      "3     202006  45779536532    Male              0      No         No    45.0   \n",
      "4     202006  45923787906  Female              0      No         No     2.0   \n",
      "\n",
      "  PhoneService     MultipleLines InternetService OnlineSecurity OnlineBackup  \\\n",
      "0           No  No phone service             DSL             No          Yes   \n",
      "1          Yes                No             DSL            Yes           No   \n",
      "2          Yes                No             DSL            Yes          Yes   \n",
      "3           No  No phone service             DSL            Yes           No   \n",
      "4          Yes                No     Fiber optic             No           No   \n",
      "\n",
      "  DeviceProtection TechSupport StreamingTV StreamingMovies        Contract  \\\n",
      "0               No          No          No              No  Month-to-month   \n",
      "1              Yes          No          No              No        One year   \n",
      "2               No          No          No              No  Month-to-month   \n",
      "3              Yes         Yes          No              No        One year   \n",
      "4               No          No          No              No  Month-to-month   \n",
      "\n",
      "  PaperlessBilling              PaymentMethod  MonthlyCharges  TotalCharges  \\\n",
      "0              Yes           Electronic check           29.85         29.85   \n",
      "1               No               Mailed check           56.95       1889.50   \n",
      "2              Yes               Mailed check           53.85        108.15   \n",
      "3               No  Bank transfer (automatic)           42.30       1840.75   \n",
      "4              Yes           Electronic check           70.70        151.65   \n",
      "\n",
      "  Churn  \n",
      "0    No  \n",
      "1    No  \n",
      "2   Yes  \n",
      "3    No  \n",
      "4   Yes  \n",
      "7017\n"
     ]
    }
   ],
   "source": [
    "#import library\n",
    "import pandas as pd\n",
    "pd.options.display.max_columns = 50\n",
    "\n",
    "#import dataset\n",
    "df_load = pd.read_csv('https://storage.googleapis.com/dqlab-dataset/dqlab_telco.csv')\n",
    "\n",
    "#Tampilkan jumlah baris dan kolom\n",
    "print(df_load.shape)\n",
    "#Tampilkan 5 data teratas\n",
    "print(df_load.head(5))\n",
    "#Jumlah ID yang unik\n",
    "print(df_load.customerID.nunique())"
   ]
  },
  {
   "cell_type": "markdown",
   "id": "2e0ba52c",
   "metadata": {},
   "source": [
    "# Memfilter ID Number Pelanggan Format Tertentu\n",
    "Mencari format ID Number (Phone Number) Pelanggan customerID yang benar, dengan kriteria:\n",
    "\n",
    "Panjang karakter adalah 11-12.\n",
    "Terdiri dari angka Saja, tidak diperbolehkan ada karakter selain angka\n",
    "Diawali dengan angka 45 2 digit pertama.\n",
    " \n",
    "Gunakan fungsi count() untuk menghitung banyaknya rows Customer ID, anda juga bisa menggunakan str.match() & regex untuk mencocokan dengan kriteria diatas. Jangan lupa gunakan astype() untuk merubah tipe datanya yang semula numeric\n",
    "\n",
    "Notes : Buat kolom bantuan baru dengan nama `valid_id`"
   ]
  },
  {
   "cell_type": "code",
   "execution_count": 2,
   "id": "8607d293",
   "metadata": {},
   "outputs": [
    {
     "name": "stdout",
     "output_type": "stream",
     "text": [
      "Hasil jumlah ID Customer yang terfilter adalah 7006\n"
     ]
    }
   ],
   "source": [
    "import pandas as pd\n",
    "df_load = pd.read_csv('https://storage.googleapis.com/dqlab-dataset/dqlab_telco.csv')\n",
    "\n",
    "df_load['valid_id'] = df_load['customerID'].astype(str).str.match(r'(45\\d{9,10})')\n",
    "df_load = (df_load[df_load['valid_id'] == True]).drop('valid_id', axis = 1)\n",
    "print('Hasil jumlah ID Customer yang terfilter adalah',df_load['customerID'].count())"
   ]
  },
  {
   "cell_type": "markdown",
   "id": "79948952",
   "metadata": {},
   "source": [
    "# Duplikasi ID Number Pelanggan\n",
    "Memastikan bahwa tidak ada Id Number pelanggan yang duplikat. Biasanya duplikasi ID number ini tipenya:\n",
    "\n",
    "- Duplikasi dikarenakan inserting melebihi satu kali dengan nilai yang sama tiap kolomnya\n",
    "- Duplikasi dikarenakan inserting beda periode pengambilan data\n",
    "Gunakan hasil dari pengolahan di tahap sebelumnya df_load untuk diolah di tahap ini. Gunakan fungsi drop_duplicates() untuk menghapus duplikasi rows, dan gunakan sort_values() untuk mengecek pengambilan data terakhir"
   ]
  },
  {
   "cell_type": "code",
   "execution_count": 3,
   "id": "3bee4f82",
   "metadata": {},
   "outputs": [
    {
     "name": "stdout",
     "output_type": "stream",
     "text": [
      "Hasil jumlah ID Customer yang sudah dihilangkan duplikasinya (distinct) adalah 7017\n"
     ]
    }
   ],
   "source": [
    "\n",
    "import pandas as pd\n",
    "df_load = pd.read_csv('https://storage.googleapis.com/dqlab-dataset/dqlab_telco.csv')\n",
    "\n",
    "# Drop Duplicate Rows\n",
    "df_load.drop_duplicates()\n",
    "# Drop duplicate ID sorted by Periode\n",
    "df_load = df_load.sort_values('UpdatedAt', ascending=False).drop_duplicates(['customerID'])\n",
    "print('Hasil jumlah ID Customer yang sudah dihilangkan duplikasinya (distinct) adalah',df_load['customerID'].count())"
   ]
  },
  {
   "cell_type": "markdown",
   "id": "1c522182",
   "metadata": {},
   "source": [
    "# Mengatasi Missing Values dengan Penghapusan Rows\n",
    "Selanjutnya kita akan menghapus rows dari data-data yang tidak terdeteksi apakah dia churn atau tidak. Diasumsikan data modeller hanya mau menerima data yang benar ada flag churn-nya atau tidak.\n",
    "\n",
    "Gunakan isnull() digunakan untuk mendeteksi missing values dan dropna() untuk menghapus data yang missing values."
   ]
  },
  {
   "cell_type": "code",
   "execution_count": 4,
   "id": "3cebf260",
   "metadata": {},
   "outputs": [
    {
     "name": "stdout",
     "output_type": "stream",
     "text": [
      "Total missing values data dari kolom Churn 43\n",
      "Total Rows dan kolom Data setelah dihapus data Missing Values adalah (7070, 22)\n"
     ]
    }
   ],
   "source": [
    "import pandas as pd\n",
    "df_load = pd.read_csv('https://storage.googleapis.com/dqlab-dataset/dqlab_telco.csv')\n",
    "\n",
    "print('Total missing values data dari kolom Churn',df_load['Churn'].isnull().sum())\n",
    "# Dropping all Rows with spesific column (churn)\n",
    "df_load.dropna(subset=['Churn'],inplace=True)\n",
    "print('Total Rows dan kolom Data setelah dihapus data Missing Values adalah',df_load.shape)"
   ]
  },
  {
   "cell_type": "markdown",
   "id": "d827c48b",
   "metadata": {},
   "source": [
    "# Missing Values dengan Pengisian Nilai tertentu\n",
    "Selain dengan menghapus rows dari data, menangani missing values bisa menggunakan nilai tertentu. Diasumsikan data modeller meminta pengisian missing values dengan kriteria berikut:\n",
    "- Tenure pihak data modeller meminta setiap rows yang memiliki missing values untuk lama berlangganan di isi dengan 11.\n",
    "- Variable yang bersifat numeric selain Tenure di isi dengan median dari masing-masing variable tersebut.\n",
    "\n",
    "Tentukan:\n",
    "1. Apakah masih ada data yang missing values\n",
    "2. Jumlah missing values dari masing-masing variable\n",
    "3. Tangani missing values-nya"
   ]
  },
  {
   "cell_type": "code",
   "execution_count": 5,
   "id": "5a244d6e",
   "metadata": {},
   "outputs": [
    {
     "ename": "IndentationError",
     "evalue": "expected an indented block (Temp/ipykernel_11204/3660003676.py, line 13)",
     "output_type": "error",
     "traceback": [
      "\u001b[1;36m  File \u001b[1;32m\"C:\\Users\\User\\AppData\\Local\\Temp/ipykernel_11204/3660003676.py\"\u001b[1;36m, line \u001b[1;32m13\u001b[0m\n\u001b[1;33m    median = df_load[col_name].median()\u001b[0m\n\u001b[1;37m    ^\u001b[0m\n\u001b[1;31mIndentationError\u001b[0m\u001b[1;31m:\u001b[0m expected an indented block\n"
     ]
    }
   ],
   "source": [
    "import pandas as pd\n",
    "df_load = pd.read_csv('https://storage.googleapis.com/dqlab-dataset/dqlab_telco.csv')\n",
    "\n",
    "print('Status Missing Values :',df_load.isnull().values.any())\n",
    "print('\\nJumlah Missing Values masing-masing kolom, adalah:')\n",
    "print(df_load.isnull().sum().sort_values(ascending=False))\n",
    "\n",
    "# handling missing values Tenure fill with 11\n",
    "df_load['tenure'].fillna(11, inplace=True)\n",
    "\n",
    "# Handling missing values num vars (except Tenure)\n",
    "for col_name in list(['MonthlyCharges','TotalCharges']):\n",
    "median = df_load[col_name].median()\n",
    "df_load[col_name].fillna(median, inplace=True)\n",
    "\n",
    "print('\\nJumlah Missing Values setelah di imputer datanya, adalah:')\n",
    "print(df_load.isnull().sum().sort_values(ascending=False))"
   ]
  },
  {
   "cell_type": "markdown",
   "id": "c53cb9e5",
   "metadata": {},
   "source": [
    "# Mendeteksi adanya Outlier (Boxplot)\n",
    "Mendeteksi pencilan dari suatu nilai (outlier) salah satunya bisa melihat plot dari data tersebut menggunakan boxplot. Boxplot merupakan ringkasan distribusi sampel yang disajikan secara grafis yang bisa menggambarkan bentuk distribusi data (skewness), ukuran tendensi sentral dan ukuran penyebaran (keragaman) data pengamatan.\n",
    "\n",
    "Gunakan package  matplotlib & seaborn untuk memvisualisasikan data-data yang mau dilihat boxplot-nya. Fungsi describe() gunakan saat untuk melihat deskripsi datanya."
   ]
  },
  {
   "cell_type": "code",
   "execution_count": 6,
   "id": "6a667848",
   "metadata": {},
   "outputs": [
    {
     "name": "stdout",
     "output_type": "stream",
     "text": [
      "\n",
      "Persebaran data sebelum ditangani Outlier: \n",
      "            tenure  MonthlyCharges  TotalCharges\n",
      "count  7014.000000     7087.000000   7098.000000\n",
      "mean     32.749358       67.018985   2306.582650\n",
      "std      25.206376      117.396646   2575.212013\n",
      "min       0.000000        0.000000     19.000000\n",
      "25%       9.000000       36.100000    402.925000\n",
      "50%      30.000000       70.450000   1400.700000\n",
      "75%      56.000000       89.900000   3801.600000\n",
      "max     500.000000     9000.000000  80000.000000\n"
     ]
    },
    {
     "data": {
      "image/png": "[encoded data removed]",
      "text/plain": [
       "<Figure size 432x288 with 1 Axes>"
      ]
     },
     "metadata": {
      "needs_background": "light"
     },
     "output_type": "display_data"
    },
    {
     "data": {
      "image/png": "[encoded data removed]",
      "text/plain": [
       "<Figure size 432x288 with 1 Axes>"
      ]
     },
     "metadata": {
      "needs_background": "light"
     },
     "output_type": "display_data"
    },
    {
     "data": {
      "image/png": "[encoded data removed]",
      "text/plain": [
       "<Figure size 432x288 with 1 Axes>"
      ]
     },
     "metadata": {
      "needs_background": "light"
     },
     "output_type": "display_data"
    }
   ],
   "source": [
    "import pandas as pd\n",
    "df_load = pd.read_csv('https://storage.googleapis.com/dqlab-dataset/dqlab_telco.csv')\n",
    "\n",
    "print('\\nPersebaran data sebelum ditangani Outlier: ')\n",
    "print(df_load[['tenure','MonthlyCharges','TotalCharges']].describe())\n",
    "\n",
    "# Creating Box Plot\n",
    "import matplotlib.pyplot as plt\n",
    "import seaborn as sns\n",
    "\n",
    "#Your Codes here\n",
    "plt.figure() # untuk membuat figure baru\n",
    "sns.boxplot(x=df_load['tenure'])\n",
    "plt.show()\n",
    "plt.figure() # untuk membuat figure baru\n",
    "sns.boxplot(x=df_load['MonthlyCharges'])\n",
    "plt.show()\n",
    "plt.figure() # untuk membuat figure baru\n",
    "sns.boxplot(x=df_load['TotalCharges'])\n",
    "plt.show()"
   ]
  },
  {
   "cell_type": "markdown",
   "id": "4b4859ea",
   "metadata": {},
   "source": [
    "# Mengatasi Outlier\n",
    "Setelah kita mengetahui variable mana saja yang terdapat pencilan (outlier), selanjutnya kita akan atasi outlier dengan menggunakan metode interquartile range (IQR). Untuk detail jelasnya, bisa dilihat di ilustrasi di bawah ini:\n",
    "\n",
    "Gunakan hasil dari pengolahan di tahap sebelumnya df_load untuk di olah di tahap ini. Gunakan fungsi quantile() untuk melihat quantile tertentu, dan gunakan mask() untuk me-replace nilai. Tentukan:\n",
    "- Nilai minimum dan maximum data di tolerir\n",
    "- Ubah nilai yang di luar range minimum & maximum ke dalam nilai minimum dan maximum"
   ]
  },
  {
   "cell_type": "code",
   "execution_count": 7,
   "id": "cb8e9255",
   "metadata": {},
   "outputs": [
    {
     "name": "stdout",
     "output_type": "stream",
     "text": [
      "Nilai Maximum dari masing-masing Variable adalah: \n",
      "tenure             126.5000\n",
      "MonthlyCharges     170.6000\n",
      "TotalCharges      8899.6125\n",
      "dtype: float64\n",
      "\n",
      "Nilai Minimum dari masing-masing Variable adalah: \n",
      "tenure             -61.5000\n",
      "MonthlyCharges     -44.6000\n",
      "TotalCharges     -4695.0875\n",
      "dtype: float64\n",
      "\n",
      "Persebaran data setelah ditangani Outlier: \n",
      "            tenure  MonthlyCharges  TotalCharges\n",
      "count  7014.000000     7087.000000   7098.000000\n",
      "mean     32.696108       64.995837   2287.957576\n",
      "std      24.606516       30.133477   2268.788381\n",
      "min       0.000000        0.000000     19.000000\n",
      "25%       9.000000       36.100000    402.925000\n",
      "50%      30.000000       70.450000   1400.700000\n",
      "75%      56.000000       89.900000   3801.600000\n",
      "max     126.500000      170.600000   8899.612500\n"
     ]
    },
    {
     "name": "stderr",
     "output_type": "stream",
     "text": [
      "C:\\Users\\User\\AppData\\Local\\Temp/ipykernel_11204/3055423745.py:14: FutureWarning: Automatic reindexing on DataFrame vs Series comparisons is deprecated and will raise ValueError in a future version.  Do `left, right = left.align(right, axis=1, copy=False)` before e.g. `left == right`\n",
      "  more_than = (df_load > maximum)\n",
      "C:\\Users\\User\\AppData\\Local\\Temp/ipykernel_11204/3055423745.py:15: FutureWarning: Automatic reindexing on DataFrame vs Series comparisons is deprecated and will raise ValueError in a future version.  Do `left, right = left.align(right, axis=1, copy=False)` before e.g. `left == right`\n",
      "  lower_than = (df_load < minimum)\n"
     ]
    }
   ],
   "source": [
    "import pandas as pd\n",
    "df_load = pd.read_csv('https://storage.googleapis.com/dqlab-dataset/dqlab_telco.csv')\n",
    "\n",
    "# Your code goes here\n",
    "Q1 = (df_load[['tenure','MonthlyCharges','TotalCharges']]).quantile(0.25)\n",
    "Q3 = (df_load[['tenure','MonthlyCharges','TotalCharges']]).quantile(0.75)\n",
    "IQR = Q3 - Q1\n",
    "maximum = Q3 + (1.5*IQR)\n",
    "print('Nilai Maximum dari masing-masing Variable adalah: ')\n",
    "print(maximum)\n",
    "minimum = Q1 - (1.5*IQR)\n",
    "print('\\nNilai Minimum dari masing-masing Variable adalah: ')\n",
    "print(minimum)\n",
    "more_than = (df_load > maximum)\n",
    "lower_than = (df_load < minimum)\n",
    "df_load = df_load.mask(more_than, maximum, axis=1)\n",
    "df_load = df_load.mask(lower_than, minimum, axis=1)\n",
    "print('\\nPersebaran data setelah ditangani Outlier: ')\n",
    "print(df_load[['tenure','MonthlyCharges','TotalCharges']].describe())"
   ]
  },
  {
   "cell_type": "markdown",
   "id": "18f083cd",
   "metadata": {},
   "source": [
    "# Mendeteksi Nilai yang tidak Standar\n",
    "Mendeteksi apakah ada nilai-nilai dari variable kategorik yang tidak standard. Hal ini biasanya terjadi dikarenakan kesalahan input data. Perbedaan istilah menjadi salah satu faktor yang sering terjadi, untuk itu dibutuhkan standardisasi dari data yang sudah ter-input.\n",
    "\n",
    "Gunakan fungsi value_counts() untuk melihat jumlah data unique per variable-nya. "
   ]
  },
  {
   "cell_type": "code",
   "execution_count": 11,
   "id": "12e7299e",
   "metadata": {},
   "outputs": [
    {
     "ename": "IndentationError",
     "evalue": "expected an indented block (Temp/ipykernel_11204/3642316517.py, line 6)",
     "output_type": "error",
     "traceback": [
      "\u001b[1;36m  File \u001b[1;32m\"C:\\Users\\User\\AppData\\Local\\Temp/ipykernel_11204/3642316517.py\"\u001b[1;36m, line \u001b[1;32m6\u001b[0m\n\u001b[1;33m    print('\\nUnique Values Count\\033[1m' + 'Before Standardized\\033[0m Variable',[col_name])\u001b[0m\n\u001b[1;37m    ^\u001b[0m\n\u001b[1;31mIndentationError\u001b[0m\u001b[1;31m:\u001b[0m expected an indented block\n"
     ]
    }
   ],
   "source": [
    "import pandas as pd\n",
    "df_load = pd.read_csv('https://storage.googleapis.com/dqlab-dataset/dqlab_telco.csv')\n",
    "\n",
    "#Loop\n",
    "for col_name in list(['gender','SeniorCitizen','Partner','Dependents','PhoneService','MultipleLines','InternetService','OnlineSecurity','OnlineBackup','DeviceProtection','TechSupport','StreamingTV','StreamingMovies','Contract','PaperlessBilling','PaymentMethod','Churn']):\n",
    "print('\\nUnique Values Count\\033[1m' + 'Before Standardized\\033[0m Variable',[col_name])\n",
    "print(df_load[col_name].value_counts())\n"
   ]
  },
  {
   "cell_type": "markdown",
   "id": "5a9d23ad",
   "metadata": {},
   "source": [
    "# Menstandarisasi Variable Kategorik\n",
    "Setelah kita mengeteahui variable mana saja yang ada nilai tidak standard, maka kita standardkan dengan pola terbanyak nya, dengan syarat tanpa mengubah maknanya. Contoh : Iya -> Yes Kemudian liat kembali unique values dari masing-masing variable yang sudah di ubah. Gunakan fungsi replace() untuk menstandardkan nilai."
   ]
  },
  {
   "cell_type": "code",
   "execution_count": null,
   "id": "82a2f600",
   "metadata": {},
   "outputs": [],
   "source": [
    "import pandas as pd\n",
    "df_load = pd.read_csv('https://storage.googleapis.com/dqlab-dataset/dqlab_telco.csv')\n",
    "df_load = df_load.replace(['Wanita','Laki-Laki','Churn','Iya'],['Female','Male','Yes','Yes'])\n",
    "\n",
    "# Masukkan variable\n",
    "for col_name in list(['gender','Dependents','Churn']):\n",
    "\tprint('\\nUnique Values Count \\033[1m' + 'After Standardized \\033[0mVariable',col_name)\n",
    "\tprint(df_load[col_name].value_counts())"
   ]
  }
 ],
 "metadata": {
  "kernelspec": {
   "display_name": "Python 3 (ipykernel)",
   "language": "python",
   "name": "python3"
  },
  "language_info": {
   "codemirror_mode": {
    "name": "ipython",
    "version": 3
   },
   "file_extension": ".py",
   "mimetype": "text/x-python",
   "name": "python",
   "nbconvert_exporter": "python",
   "pygments_lexer": "ipython3",
   "version": "3.9.1"
  }
 },
 "nbformat": 4,
 "nbformat_minor": 5
}
