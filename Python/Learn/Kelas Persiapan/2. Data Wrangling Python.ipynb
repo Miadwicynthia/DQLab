{
 "cells": [
  {
   "cell_type": "markdown",
   "id": "b1728c67",
   "metadata": {},
   "source": [
    "# Membaca file dengan menggunakan head()"
   ]
  },
  {
   "cell_type": "code",
   "execution_count": 1,
   "id": "a811f26f",
   "metadata": {},
   "outputs": [
    {
     "name": "stdout",
     "output_type": "stream",
     "text": [
      "   CustomerID   Genre  Age  Annual Income (k$)  Spending Score (1-100)\n",
      "0           1    Male   19                  15                      39\n",
      "1           2    Male   21                  15                      81\n",
      "2           3  Female   20                  16                       6\n",
      "3           4  Female   23                  16                      77\n",
      "4           5  Female   31                  17                      40\n"
     ]
    }
   ],
   "source": [
    "import pandas as pd\n",
    "\n",
    "csv_data = pd.read_csv(\"https://storage.googleapis.com/dqlab-dataset/shopping_data.csv\")\n",
    "\n",
    "print(csv_data.head())"
   ]
  },
  {
   "cell_type": "markdown",
   "id": "69dea072",
   "metadata": {},
   "source": [
    "# Melakukan akses data kolom"
   ]
  },
  {
   "cell_type": "code",
   "execution_count": 2,
   "id": "7a97fe39",
   "metadata": {},
   "outputs": [
    {
     "name": "stdout",
     "output_type": "stream",
     "text": [
      "0      19\n",
      "1      21\n",
      "2      20\n",
      "3      23\n",
      "4      31\n",
      "       ..\n",
      "195    35\n",
      "196    45\n",
      "197    32\n",
      "198    32\n",
      "199    30\n",
      "Name: Age, Length: 200, dtype: int64\n"
     ]
    }
   ],
   "source": [
    "import pandas as pd\n",
    "\n",
    "csv_data = pd.read_csv(\"https://storage.googleapis.com/dqlab-dataset/shopping_data.csv\")\n",
    "\n",
    "print(csv_data['Age'])"
   ]
  },
  {
   "cell_type": "markdown",
   "id": "1590d728",
   "metadata": {},
   "source": [
    "# Melakukan akses data melalui baris"
   ]
  },
  {
   "cell_type": "code",
   "execution_count": 3,
   "id": "3bc8c482",
   "metadata": {},
   "outputs": [
    {
     "name": "stdout",
     "output_type": "stream",
     "text": [
      "CustomerID                     6\n",
      "Genre                     Female\n",
      "Age                           22\n",
      "Annual Income (k$)            17\n",
      "Spending Score (1-100)        76\n",
      "Name: 5, dtype: object\n"
     ]
    }
   ],
   "source": [
    "import pandas as pd\n",
    "\n",
    "csv_data = pd.read_csv(\"https://storage.googleapis.com/dqlab-dataset/shopping_data.csv\")\n",
    "\n",
    "print(csv_data.iloc[5])"
   ]
  },
  {
   "cell_type": "markdown",
   "id": "c43469f4",
   "metadata": {},
   "source": [
    "# Menampilkan suatu data dari baris dan kolom tertentu"
   ]
  },
  {
   "cell_type": "code",
   "execution_count": 4,
   "id": "55fe2ec8",
   "metadata": {},
   "outputs": [
    {
     "name": "stdout",
     "output_type": "stream",
     "text": [
      "21\n",
      "Cuplikan Dataset:\n",
      "   CustomerID   Genre  Age  Annual Income (k$)  Spending Score (1-100)\n",
      "0           1    Male   19                  15                      39\n",
      "1           2    Male   21                  15                      81\n",
      "2           3  Female   20                  16                       6\n",
      "3           4  Female   23                  16                      77\n",
      "4           5  Female   31                  17                      40\n"
     ]
    }
   ],
   "source": [
    "import pandas as pd\n",
    "\n",
    "csv_data = pd.read_csv(\"https://storage.googleapis.com/dqlab-dataset/shopping_data.csv\")\n",
    "\n",
    "print(csv_data['Age'].iloc[1])\n",
    "\n",
    "print(\"Cuplikan Dataset:\")\n",
    "\n",
    "print(csv_data.head())"
   ]
  },
  {
   "cell_type": "markdown",
   "id": "c4a128ee",
   "metadata": {},
   "source": [
    "# Menampilkan data dalam range tertentu"
   ]
  },
  {
   "cell_type": "code",
   "execution_count": 5,
   "id": "2824b380",
   "metadata": {},
   "outputs": [
    {
     "name": "stdout",
     "output_type": "stream",
     "text": [
      "Menampilkan data ke 5 sampai kurang dari 10 dalam satu baris:\n",
      "   CustomerID   Genre  Age  Annual Income (k$)  Spending Score (1-100)\n",
      "5           6  Female   22                  17                      76\n",
      "6           7  Female   35                  18                       6\n",
      "7           8  Female   23                  18                      94\n",
      "8           9    Male   64                  19                       3\n",
      "9          10  Female   30                  19                      72\n"
     ]
    }
   ],
   "source": [
    "import pandas as pd\n",
    "\n",
    "csv_data = pd.read_csv(\"https://storage.googleapis.com/dqlab-dataset/shopping_data.csv\")\n",
    "\n",
    "print(\"Menampilkan data ke 5 sampai kurang dari 10 dalam satu baris:\")\n",
    "\n",
    "print(csv_data.iloc[5:10])"
   ]
  },
  {
   "cell_type": "markdown",
   "id": "ed110d95",
   "metadata": {},
   "source": [
    "# Menampilkan informasi statistik dengan Pandas\n",
    "Fungsi describe() ini memungkinkan untuk mengetahui informasi statistik dari suatu dataset secara cepat."
   ]
  },
  {
   "cell_type": "code",
   "execution_count": 6,
   "id": "1ff6544c",
   "metadata": {},
   "outputs": [
    {
     "name": "stdout",
     "output_type": "stream",
     "text": [
      "       CustomerID         Age  Annual Income (k$)  Spending Score (1-100)\n",
      "count  200.000000  200.000000          200.000000              200.000000\n",
      "mean   100.500000   38.850000           60.560000               50.200000\n",
      "std     57.879185   13.969007           26.264721               25.823522\n",
      "min      1.000000   18.000000           15.000000                1.000000\n",
      "25%     50.750000   28.750000           41.500000               34.750000\n",
      "50%    100.500000   36.000000           61.500000               50.000000\n",
      "75%    150.250000   49.000000           78.000000               73.000000\n",
      "max    200.000000   70.000000          137.000000               99.000000\n"
     ]
    }
   ],
   "source": [
    "import pandas as pd\n",
    "\n",
    "csv_data = pd.read_csv(\"https://storage.googleapis.com/dqlab-dataset/shopping_data.csv\")\n",
    "\n",
    "print(csv_data.describe(exclude=['O']))"
   ]
  },
  {
   "cell_type": "markdown",
   "id": "4b7cab30",
   "metadata": {},
   "source": [
    "# Melakukan pengecekan untuk nilai NULL yang ada "
   ]
  },
  {
   "cell_type": "code",
   "execution_count": 7,
   "id": "1c76a4a8",
   "metadata": {},
   "outputs": [
    {
     "name": "stdout",
     "output_type": "stream",
     "text": [
      "True\n"
     ]
    }
   ],
   "source": [
    "import pandas as pd\n",
    "\n",
    "csv_data = pd.read_csv(\"https://storage.googleapis.com/dqlab-dataset/shopping_data_missingvalue.csv\")\n",
    "\n",
    "print(csv_data.isnull().values.any())"
   ]
  },
  {
   "cell_type": "markdown",
   "id": "c805c7a6",
   "metadata": {},
   "source": [
    "# Mengisi dengan Mean\n",
    "fungsi mean() untuk menentukan nilai mean dari masing-masing kolom. Mean sendiri digunakan untuk data yang memiliki sedikit sifat outlier/noisy/anomali dalam sebaran datanya maupun isinya."
   ]
  },
  {
   "cell_type": "code",
   "execution_count": 8,
   "id": "248ce35e",
   "metadata": {},
   "outputs": [
    {
     "name": "stdout",
     "output_type": "stream",
     "text": [
      "CustomerID                100.500000\n",
      "Age                        38.939698\n",
      "Annual Income (k$)         61.005051\n",
      "Spending Score (1-100)     50.489899\n",
      "dtype: float64\n",
      "Dataset yang masih terdapat nilai kosong ! :\n",
      "   CustomerID   Genre   Age  Annual Income (k$)  Spending Score (1-100)\n",
      "0           1    Male  19.0                15.0                    39.0\n",
      "1           2    Male   NaN                15.0                    81.0\n",
      "2           3  Female  20.0                 NaN                     6.0\n",
      "3           4  Female  23.0                16.0                    77.0\n",
      "4           5  Female  31.0                17.0                     NaN\n",
      "5           6  Female  22.0                 NaN                    76.0\n",
      "6           7  Female  35.0                18.0                     6.0\n",
      "7           8  Female  23.0                18.0                    94.0\n",
      "8           9    Male  64.0                19.0                     NaN\n",
      "9          10  Female  30.0                19.0                    72.0\n",
      "Dataset yang sudah diproses Handling Missing Values dengan Mean :\n",
      "   CustomerID   Genre        Age  Annual Income (k$)  Spending Score (1-100)\n",
      "0           1    Male  19.000000           15.000000               39.000000\n",
      "1           2    Male  38.939698           15.000000               81.000000\n",
      "2           3  Female  20.000000           61.005051                6.000000\n",
      "3           4  Female  23.000000           16.000000               77.000000\n",
      "4           5  Female  31.000000           17.000000               50.489899\n",
      "5           6  Female  22.000000           61.005051               76.000000\n",
      "6           7  Female  35.000000           18.000000                6.000000\n",
      "7           8  Female  23.000000           18.000000               94.000000\n",
      "8           9    Male  64.000000           19.000000               50.489899\n",
      "9          10  Female  30.000000           19.000000               72.000000\n"
     ]
    }
   ],
   "source": [
    "import pandas as pd\n",
    "\n",
    "csv_data = pd.read_csv(\"https://storage.googleapis.com/dqlab-dataset/shopping_data_missingvalue.csv\")\n",
    "print(csv_data.mean())\n",
    "print(\"Dataset yang masih terdapat nilai kosong ! :\")\n",
    "print(csv_data.head(10))\n",
    "\n",
    "csv_data=csv_data.fillna(csv_data.mean())\n",
    "print(\"Dataset yang sudah diproses Handling Missing Values dengan Mean :\")\n",
    "print(csv_data.head(10))"
   ]
  },
  {
   "cell_type": "markdown",
   "id": "0e0ec243",
   "metadata": {},
   "source": [
    "# Mengisi dengan Median\n",
    "Median digunakan untuk data-data yang memiliki sifat outlier yang kuat."
   ]
  },
  {
   "cell_type": "code",
   "execution_count": 9,
   "id": "44f6a281",
   "metadata": {},
   "outputs": [
    {
     "name": "stdout",
     "output_type": "stream",
     "text": [
      "Dataset yang masih terdapat nilai kosong ! :\n",
      "   CustomerID   Genre   Age  Annual Income (k$)  Spending Score (1-100)\n",
      "0           1    Male  19.0                15.0                    39.0\n",
      "1           2    Male   NaN                15.0                    81.0\n",
      "2           3  Female  20.0                 NaN                     6.0\n",
      "3           4  Female  23.0                16.0                    77.0\n",
      "4           5  Female  31.0                17.0                     NaN\n",
      "5           6  Female  22.0                 NaN                    76.0\n",
      "6           7  Female  35.0                18.0                     6.0\n",
      "7           8  Female  23.0                18.0                    94.0\n",
      "8           9    Male  64.0                19.0                     NaN\n",
      "9          10  Female  30.0                19.0                    72.0\n",
      "Dataset yang sudah diproses Handling Missing Values dengan Median :\n",
      "   CustomerID   Genre   Age  Annual Income (k$)  Spending Score (1-100)\n",
      "0           1    Male  19.0                15.0                    39.0\n",
      "1           2    Male  36.0                15.0                    81.0\n",
      "2           3  Female  20.0                62.0                     6.0\n",
      "3           4  Female  23.0                16.0                    77.0\n",
      "4           5  Female  31.0                17.0                    50.0\n",
      "5           6  Female  22.0                62.0                    76.0\n",
      "6           7  Female  35.0                18.0                     6.0\n",
      "7           8  Female  23.0                18.0                    94.0\n",
      "8           9    Male  64.0                19.0                    50.0\n",
      "9          10  Female  30.0                19.0                    72.0\n"
     ]
    }
   ],
   "source": [
    "import pandas as pd\n",
    "\n",
    "csv_data = pd.read_csv(\"https://storage.googleapis.com/dqlab-dataset/shopping_data_missingvalue.csv\")\n",
    "print(\"Dataset yang masih terdapat nilai kosong ! :\")\n",
    "print(csv_data.head(10))\n",
    "\n",
    "csv_data=csv_data.fillna(csv_data.median())\n",
    "print(\"Dataset yang sudah diproses Handling Missing Values dengan Median :\")\n",
    "print(csv_data.head(10))"
   ]
  },
  {
   "cell_type": "markdown",
   "id": "ef4c7377",
   "metadata": {},
   "source": [
    "# Metode Normalisasi\n",
    "1. MinMax\n",
    "untuk kasus-kasus berbasis time frame analisis dan forecasting. \n",
    "2. Z-Score\n",
    "Metode yang sering digunakan dalam berbagai penelitian berbasis data mining atau data science. Z-score merupakan metode normalisasi yang berdasarkan mean (nilai rata-rata) dan standard deviation (deviasi standar) dari data. \n",
    "3. Decimal Scaling\n",
    "4. Softmax\n",
    "sangat berguna pada saat data yang ada melibatkan data outlier. Output range-nya adalah 0-1.\n",
    "5. Sigmoid\n",
    "Metode normalization melakukan normalisasi data secara nonlinier ke dalam range -1 s/d 1 dengan menggunakan fungsi sigmoid."
   ]
  },
  {
   "cell_type": "markdown",
   "id": "16c52a0f",
   "metadata": {},
   "source": [
    "# Normalisasi menggunakan Scikit Learn pada Python\n",
    "Scikit Learn merupakan library pada python yang digunakan untuk machine learning dan data science.\n",
    "Scikit-learn sendiri tidak hanya untuk analytics saja, namun juga untuk pre-processing, feature selection, dan proses analysis lainnya"
   ]
  },
  {
   "cell_type": "code",
   "execution_count": 1,
   "id": "0104416a",
   "metadata": {},
   "outputs": [
    {
     "name": "stdout",
     "output_type": "stream",
     "text": [
      "dataset sebelum dinormalisasi :\n",
      "  Customer ID  Gender Age Income Spending Score\n",
      "0           1    Male  19     15             39\n",
      "1           2    Male  21     15             81\n",
      "2           3  Female  20     16              6\n",
      "3           4  Female  23     16             77\n",
      "4           5  Female  31     17             40\n",
      "5           6  Female  22     17             76\n",
      "6           7  Female  35     18              6\n",
      "7           8  Female  23     18             94\n",
      "8           9    Male  64     19              3\n",
      "9          10  Female  30     19             72\n",
      "dataset setelah dinormalisasi :\n",
      "        Age    Income  Spending Score Customer ID  Gender\n",
      "0  0.019231  0.000000        0.387755           1    Male\n",
      "1  0.057692  0.000000        0.816327           2    Male\n",
      "2  0.038462  0.008197        0.051020           3  Female\n",
      "3  0.096154  0.008197        0.775510           4  Female\n",
      "4  0.250000  0.016393        0.397959           5  Female\n",
      "5  0.076923  0.016393        0.765306           6  Female\n",
      "6  0.326923  0.024590        0.051020           7  Female\n",
      "7  0.096154  0.024590        0.948980           8  Female\n",
      "8  0.884615  0.032787        0.020408           9    Male\n",
      "9  0.230769  0.032787        0.724490          10  Female\n"
     ]
    }
   ],
   "source": [
    "import pandas as pd\n",
    "import numpy as np\n",
    "from sklearn import preprocessing\n",
    "\n",
    "csv_data = pd.read_csv(\"https://storage.googleapis.com/dqlab-dataset/shopping_data.csv\")\n",
    "array = csv_data.values\t\t\t\n",
    "\n",
    "X = array[:,2:5] #memisahkan fitur dari dataset. \n",
    "Y = array[:,0:1]  #memisahkan class dari dataset\n",
    "\n",
    "dataset=pd.DataFrame({'Customer ID':array[:,0],'Gender':array[:,1],'Age':array[:,2],'Income':array[:,3],'Spending Score':array[:,4]})\n",
    "print(\"dataset sebelum dinormalisasi :\")\n",
    "print(dataset.head(10))\n",
    "\n",
    "min_max_scaler = preprocessing.MinMaxScaler(feature_range=(0,1)) #inisialisasi normalisasi MinMax\n",
    "data = min_max_scaler.fit_transform(X) #transformasi MinMax untuk fitur\n",
    "dataset = pd.DataFrame({'Age':data[:,0],'Income':data[:,1],'Spending Score':data[:,2],'Customer ID':array[:,0],'Gender':array[:,1]})\n",
    "\n",
    "print(\"dataset setelah dinormalisasi :\")\n",
    "print(dataset.head(10))"
   ]
  },
  {
   "cell_type": "code",
   "execution_count": null,
   "id": "12edce2b",
   "metadata": {},
   "outputs": [],
   "source": []
  }
 ],
 "metadata": {
  "kernelspec": {
   "display_name": "Python 3 (ipykernel)",
   "language": "python",
   "name": "python3"
  },
  "language_info": {
   "codemirror_mode": {
    "name": "ipython",
    "version": 3
   },
   "file_extension": ".py",
   "mimetype": "text/x-python",
   "name": "python",
   "nbconvert_exporter": "python",
   "pygments_lexer": "ipython3",
   "version": "3.9.1"
  }
 },
 "nbformat": 4,
 "nbformat_minor": 5
}
